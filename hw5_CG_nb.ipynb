{
 "cells": [
  {
   "cell_type": "code",
   "execution_count": 934,
   "metadata": {
    "collapsed": true
   },
   "outputs": [],
   "source": [
    "import numpy as np\n",
    "import pandas as pd\n",
    "from sklearn.preprocessing import LabelEncoder, OneHotEncoder"
   ]
  },
  {
   "cell_type": "code",
   "execution_count": 935,
   "metadata": {},
   "outputs": [],
   "source": [
    "df = pd.read_csv('responses2.csv')"
   ]
  },
  {
   "cell_type": "code",
   "execution_count": 936,
   "metadata": {},
   "outputs": [
    {
     "name": "stdout",
     "output_type": "stream",
     "text": [
      "List of non-integer columns:\n",
      "- Smoking\n",
      "- Alcohol\n",
      "- Punctuality\n",
      "- Lying\n",
      "- Internet usage\n",
      "- Gender\n",
      "- Left - right handed\n",
      "- Education\n",
      "- Only child\n",
      "- Village - town\n",
      "- House - block of flats\n"
     ]
    }
   ],
   "source": [
    "print('List of non-integer columns:')\n",
    "for id,dtyp in df.dtypes.iteritems():\n",
    "    if dtyp=='object':\n",
    "        print('-',id)"
   ]
  },
  {
   "cell_type": "code",
   "execution_count": 937,
   "metadata": {},
   "outputs": [
    {
     "name": "stdout",
     "output_type": "stream",
     "text": [
      "No columns with huge number of missing values\n",
      "Columns with largest missing value count\n"
     ]
    },
    {
     "data": {
      "image/png": "[encoded data removed]",
      "text/plain": [
       "<matplotlib.figure.Figure at 0x23f7d04f9b0>"
      ]
     },
     "metadata": {},
     "output_type": "display_data"
    }
   ],
   "source": [
    "for id,val in df.isnull().sum().iteritems():\n",
    "    if val>(0.2 * len(df)):\n",
    "        print(id,val)\n",
    "print(\"No columns with huge number of missing values\")\n",
    "\n",
    "print(\"Columns with largest missing value count\")\n",
    "idList = []\n",
    "valList = []\n",
    "for id,val in df.isnull().sum().iteritems():\n",
    "    if val>(0.008 * len(df)):\n",
    "        #print(id,'\\t\\t',val)\n",
    "        idList.append(id)\n",
    "        valList.append(val)\n",
    "import seaborn as sns\n",
    "import matplotlib.pyplot as plt\n",
    "x = np.arange(len(idList))\n",
    "plt.bar(x, height= valList)\n",
    "plt.xticks(x, idList)\n",
    "plt.ylabel(\"null value count\")\n",
    "plt.xlabel(\"Features\")\n",
    "plt.show()"
   ]
  },
  {
   "cell_type": "code",
   "execution_count": 938,
   "metadata": {},
   "outputs": [
    {
     "name": "stdout",
     "output_type": "stream",
     "text": [
      "\n",
      "Any columns with remaining nulls?\n",
      "0\n"
     ]
    }
   ],
   "source": [
    "for col in list(df):\n",
    "    df[col].fillna(df[col].mode()[0], inplace = True)  \n",
    "\n",
    "print(\"\\nAny columns with remaining nulls?\")\n",
    "count =0\n",
    "for id,val in df.isnull().sum().iteritems():\n",
    "    if val>0:\n",
    "        count = count +1\n",
    "        print(id,val)\n",
    "print(count)"
   ]
  },
  {
   "cell_type": "code",
   "execution_count": 939,
   "metadata": {
    "collapsed": true
   },
   "outputs": [],
   "source": [
    "le = LabelEncoder()\n",
    "categoricalFeatures = []\n",
    "for col in [id for id,dtyp in df.dtypes.iteritems() if dtyp=='object']:\n",
    "    categoricalFeatures.append(col)\n",
    "    df[col] = le.fit_transform(df[col].astype('str'))\n",
    "    #print(col,\"\\n\",df[col][:5])\n",
    "#df = df.drop(columns=categoricalFeatures)"
   ]
  },
  {
   "cell_type": "code",
   "execution_count": 940,
   "metadata": {},
   "outputs": [],
   "source": [
    "df2 = df[categoricalFeatures]"
   ]
  },
  {
   "cell_type": "code",
   "execution_count": 941,
   "metadata": {},
   "outputs": [
    {
     "name": "stdout",
     "output_type": "stream",
     "text": [
      "DF shape:  (1010, 150)\n",
      "DF2 shape:  (1010, 11)\n"
     ]
    }
   ],
   "source": [
    "print(\"DF shape: \",df.shape)\n",
    "print(\"DF2 shape: \",df2.shape)"
   ]
  },
  {
   "cell_type": "code",
   "execution_count": 942,
   "metadata": {
    "collapsed": true
   },
   "outputs": [],
   "source": [
    "df=df.drop(categoricalFeatures, axis=1)"
   ]
  },
  {
   "cell_type": "code",
   "execution_count": 943,
   "metadata": {},
   "outputs": [
    {
     "name": "stdout",
     "output_type": "stream",
     "text": [
      "DF shape:  (1010, 173)\n"
     ]
    }
   ],
   "source": [
    "ohe = OneHotEncoder()\n",
    "#for col in categoricalFeatures:\n",
    "df = df.join(pd.DataFrame(ohe.fit_transform(df2).toarray()))\n",
    "print(\"DF shape: \",df.shape)"
   ]
  },
  {
   "cell_type": "code",
   "execution_count": 944,
   "metadata": {},
   "outputs": [],
   "source": [
    "emp = df['Empathy']\n",
    "df = df.drop('Empathy',axis=1)"
   ]
  },
  {
   "cell_type": "code",
   "execution_count": 945,
   "metadata": {},
   "outputs": [],
   "source": [
    "from sklearn.preprocessing import MinMaxScaler, StandardScaler, Normalizer\n",
    "rescaledX = MinMaxScaler(feature_range=(0, 1)).fit_transform(df)\n",
    "standardizedX = StandardScaler().fit_transform(rescaledX)\n",
    "normalizedX = Normalizer().fit_transform(standardizedX)"
   ]
  },
  {
   "cell_type": "code",
   "execution_count": 946,
   "metadata": {},
   "outputs": [],
   "source": [
    "from sklearn.tree import DecisionTreeClassifier\n",
    "from sklearn.neighbors import KNeighborsClassifier\n",
    "from sklearn.svm import LinearSVC, SVC\n",
    "from sklearn.naive_bayes import GaussianNB\n",
    "from sklearn.neural_network import MLPClassifier\n",
    "\n",
    "from sklearn.model_selection import cross_val_score\n",
    "\n",
    "dtree = DecisionTreeClassifier(max_depth=2)\n",
    "knn = KNeighborsClassifier()\n",
    "#svc = SVC(kernel='poly',degree=2, gamma = 1.2, C=1.2, coef0=1)\n",
    "svc = LinearSVC(dual=False)#dual=False, C=2)\n",
    "gnb = GaussianNB()\n",
    "mlp = MLPClassifier()"
   ]
  },
  {
   "cell_type": "code",
   "execution_count": null,
   "metadata": {},
   "outputs": [],
   "source": [
    "#t = list(df)\n",
    "#t.remove('Empathy')"
   ]
  },
  {
   "cell_type": "code",
   "execution_count": 947,
   "metadata": {},
   "outputs": [
    {
     "data": {
      "text/plain": [
       "(1010,)"
      ]
     },
     "execution_count": 947,
     "metadata": {},
     "output_type": "execute_result"
    }
   ],
   "source": [
    "emp.shape"
   ]
  },
  {
   "cell_type": "code",
   "execution_count": 948,
   "metadata": {
    "collapsed": true
   },
   "outputs": [],
   "source": [
    "from sklearn.model_selection import train_test_split\n",
    "X_train, X_test, y_train, y_test = train_test_split(df, emp, test_size=0.2,random_state = 0)#(df[t], df['Empathy'], test_size=0.2)"
   ]
  },
  {
   "cell_type": "code",
   "execution_count": 949,
   "metadata": {},
   "outputs": [],
   "source": [
    "X_train, X_dev, y_train, y_dev = train_test_split(X_train, y_train, test_size=0.2,random_state = 0)"
   ]
  },
  {
   "cell_type": "code",
   "execution_count": 1001,
   "metadata": {
    "collapsed": true
   },
   "outputs": [],
   "source": [
    "scores=[]\n",
    "models=[]"
   ]
  },
  {
   "cell_type": "code",
   "execution_count": 1002,
   "metadata": {},
   "outputs": [
    {
     "name": "stdout",
     "output_type": "stream",
     "text": [
      "0.271604938272\n"
     ]
    }
   ],
   "source": [
    "knn.fit(X_train,y_train)\n",
    "print(knn.score(X_dev,y_dev))\n",
    "scores.append(knn.score(X_dev,y_dev))\n",
    "models.append(\"KNN\")"
   ]
  },
  {
   "cell_type": "code",
   "execution_count": 1003,
   "metadata": {},
   "outputs": [
    {
     "name": "stdout",
     "output_type": "stream",
     "text": [
      "0.376543209877\n"
     ]
    }
   ],
   "source": [
    "gnb.fit(X_train,y_train)\n",
    "print(gnb.score(X_dev,y_dev))\n",
    "scores.append(gnb.score(X_dev,y_dev))\n",
    "models.append(\"GaussianNB\")"
   ]
  },
  {
   "cell_type": "code",
   "execution_count": 710,
   "metadata": {},
   "outputs": [
    {
     "data": {
      "text/plain": [
       "0.40740740740740738"
      ]
     },
     "execution_count": 710,
     "metadata": {},
     "output_type": "execute_result"
    }
   ],
   "source": [
    "from sklearn.model_selection import GridSearchCV\n",
    "parameters = {'C':[0.01, 0.1, 2, 4, 8, 10], 'degree':[1,2,3,4,5,6]}\n",
    "#parameters = {'dual':(False, True), 'C':[0.001, 0.01, 0.1, 1, 2, 3, 4, 5, 10]}\n",
    "clf = GridSearchCV(svc, parameters)\n",
    "clf.fit(X_train, y_train)\n",
    "clf.score(X_dev, y_dev)"
   ]
  },
  {
   "cell_type": "code",
   "execution_count": 699,
   "metadata": {},
   "outputs": [
    {
     "data": {
      "text/plain": [
       "{'C': 2, 'degree': 1}"
      ]
     },
     "execution_count": 699,
     "metadata": {},
     "output_type": "execute_result"
    }
   ],
   "source": [
    "clf.best_params_"
   ]
  },
  {
   "cell_type": "code",
   "execution_count": 1004,
   "metadata": {},
   "outputs": [
    {
     "name": "stdout",
     "output_type": "stream",
     "text": [
      "0.388888888889\n"
     ]
    }
   ],
   "source": [
    "accSum = []\n",
    "#for i in range(10):\n",
    "svc.fit(X_train,y_train)\n",
    "#accSum.append(\n",
    "print(svc.score(X_dev,y_dev))\n",
    "#np.mean(accSum)\n",
    "scores.append(svc.score(X_dev,y_dev))\n",
    "models.append(\"LinearSVC\")"
   ]
  },
  {
   "cell_type": "code",
   "execution_count": 1005,
   "metadata": {},
   "outputs": [
    {
     "name": "stdout",
     "output_type": "stream",
     "text": [
      "0.395061728395\n"
     ]
    }
   ],
   "source": [
    "accSum = []\n",
    "#for i in range(10):\n",
    "dtree.fit(X_train,y_train)\n",
    "#accSum.append(\n",
    "print(dtree.score(X_dev,y_dev))\n",
    "#np.mean(accSum)\n",
    "scores.append(dtree.score(X_dev,y_dev))\n",
    "models.append(\"DecisionTree\")"
   ]
  },
  {
   "cell_type": "code",
   "execution_count": 1006,
   "metadata": {},
   "outputs": [
    {
     "name": "stdout",
     "output_type": "stream",
     "text": [
      "Dev:  0.37962962963\n"
     ]
    }
   ],
   "source": [
    "accSum = []\n",
    "for i in range(10):\n",
    "    mlp.fit(X_train,y_train)\n",
    "    accSum.append(mlp.score(X_dev,y_dev))\n",
    "print(\"Dev: \",np.mean(accSum))\n",
    "scores.append(np.mean(accSum))\n",
    "models.append(\"MLP\")\n",
    "#print(\"Test: \",mlp.score(X_test,y_test))"
   ]
  },
  {
   "cell_type": "code",
   "execution_count": 1007,
   "metadata": {},
   "outputs": [
    {
     "data": {
      "text/plain": [
       "[0.36419753086419754,\n",
       " 0.3888888888888889,\n",
       " 0.35802469135802467,\n",
       " 0.35802469135802467,\n",
       " 0.37037037037037035,\n",
       " 0.37037037037037035,\n",
       " 0.35802469135802467,\n",
       " 0.4567901234567901,\n",
       " 0.40123456790123457,\n",
       " 0.37037037037037035]"
      ]
     },
     "execution_count": 1007,
     "metadata": {},
     "output_type": "execute_result"
    }
   ],
   "source": [
    "accSum"
   ]
  },
  {
   "cell_type": "code",
   "execution_count": 1008,
   "metadata": {},
   "outputs": [
    {
     "name": "stdout",
     "output_type": "stream",
     "text": [
      "0.413580246914\n"
     ]
    }
   ],
   "source": [
    "from sklearn.ensemble import RandomForestClassifier\n",
    "clf = RandomForestClassifier(random_state=0)\n",
    "clf.fit(X_train, y_train)\n",
    "print(clf.score(X_dev, y_dev))\n",
    "scores.append(clf.score(X_dev, y_dev))\n",
    "models.append(\"RandomForest\")"
   ]
  },
  {
   "cell_type": "code",
   "execution_count": 1009,
   "metadata": {},
   "outputs": [
    {
     "data": {
      "image/png": "[encoded data removed]",
      "text/plain": [
       "<matplotlib.figure.Figure at 0x23f7c997710>"
      ]
     },
     "metadata": {},
     "output_type": "display_data"
    }
   ],
   "source": [
    "\n",
    "x = np.arange(len(scores))\n",
    "plt.bar(x, height= [(i-0.25) for i in scores],bottom=0.25)\n",
    "plt.xticks(x, models)\n",
    "plt.ylabel(\"Dev Accuracy\")\n",
    "plt.xlabel(\"Models\")\n",
    "plt.show()"
   ]
  },
  {
   "cell_type": "code",
   "execution_count": 1010,
   "metadata": {},
   "outputs": [
    {
     "data": {
      "text/plain": [
       "[0.27160493827160492,\n",
       " 0.37654320987654322,\n",
       " 0.3888888888888889,\n",
       " 0.39506172839506171,\n",
       " 0.37962962962962959,\n",
       " 0.41358024691358025]"
      ]
     },
     "execution_count": 1010,
     "metadata": {},
     "output_type": "execute_result"
    }
   ],
   "source": [
    "scores"
   ]
  },
  {
   "cell_type": "code",
   "execution_count": 843,
   "metadata": {},
   "outputs": [
    {
     "data": {
      "text/plain": [
       "0.3888888888888889"
      ]
     },
     "execution_count": 843,
     "metadata": {},
     "output_type": "execute_result"
    }
   ],
   "source": [
    "clf = RandomForestClassifier(n_estimators=9,max_depth=6, random_state=0)\n",
    "clf.fit(X_train, y_train)\n",
    "clf.score(X_dev, y_dev)"
   ]
  },
  {
   "cell_type": "code",
   "execution_count": 813,
   "metadata": {},
   "outputs": [
    {
     "name": "stdout",
     "output_type": "stream",
     "text": [
      "\n",
      "1 5\n",
      "RandomForest score on dev 0.333333333333\n",
      "\n",
      "1 7\n",
      "RandomForest score on dev 0.37037037037\n",
      "\n",
      "2 5\n",
      "RandomForest score on dev 0.376543209877\n",
      "\n",
      "3 6\n",
      "RandomForest score on dev 0.395061728395\n",
      "\n",
      "5 5\n",
      "RandomForest score on dev 0.401234567901\n",
      "\n",
      "9 6\n",
      "RandomForest score on dev 0.413580246914\n",
      "\n",
      "11 7\n",
      "RandomForest score on dev 0.425925925926\n"
     ]
    }
   ],
   "source": [
    "acc = 0\n",
    "for nest in range(1,13):\n",
    "    for dep in range(5,11):\n",
    "        rfc = RandomForestClassifier(n_estimators=nest,max_depth=dep, random_state=0)\n",
    "        rfc.fit(X_train, y_train)\n",
    "        devScore = rfc.score(X_dev, y_dev)\n",
    "        if devScore > acc:\n",
    "            acc = devScore\n",
    "            print()\n",
    "            print(nest,dep)\n",
    "            print(\"RandomForest score on dev\",rfc.score(X_dev, y_dev))\n"
   ]
  },
  {
   "cell_type": "code",
   "execution_count": null,
   "metadata": {},
   "outputs": [],
   "source": [
    "from sklearn.feature_selection import SelectKBest\n",
    "from sklearn.feature_selection import chi2\n",
    "\n",
    "accList=[]\n",
    "bestAcc = 0.1\n",
    "bestK = 1\n",
    "for i in range(5):\n",
    "    for k in range(1,170,10):\n",
    "        \n",
    "        X_new = SelectKBest(chi2, k).fit_transform(X_dev, y_dev)\n",
    "        svcTuned.fit()\n",
    "        \n",
    "        #nowAcc = np.mean(cross_val_score(svc, X_new, df['Empathy'],cv=10))\n",
    "        if nowAcc>bestAcc:\n",
    "            bestAcc = nowAcc\n",
    "            #bestK = k\n",
    "    accList.append(bestAcc)\n",
    "    print(bestAcc)\n",
    "        \n",
    "#print('k=',bestK)\n",
    "print('Accuracy of baseline=',np.mean(accList))"
   ]
  },
  {
   "cell_type": "code",
   "execution_count": 648,
   "metadata": {},
   "outputs": [],
   "source": [
    "kbesht = SelectKBest(chi2,20)\n",
    "X_new = kbesht.fit_transform(X_dev, y_dev)\n",
    "relevantCols = []\n",
    "for col in kbesht.get_support(indices=True):\n",
    "    relevantCols.append(df.columns[col])\n",
    "\n",
    "#print(relevantCols)    \n",
    "\n",
    "#X_train[relevantCols]\n",
    "X_train = X_train[relevantCols]\n",
    "X_dev = X_dev[relevantCols]\n",
    "X_test = X_test[relevantCols]"
   ]
  },
  {
   "cell_type": "code",
   "execution_count": 1011,
   "metadata": {},
   "outputs": [
    {
     "name": "stdout",
     "output_type": "stream",
     "text": [
      "RandomForest score on dev 0.487654320988\n",
      "RandomForest score on test 0.39603960396\n"
     ]
    }
   ],
   "source": [
    "kbesht = SelectKBest(chi2, 11)\n",
    "X_new = kbesht.fit_transform(X_train, y_train)\n",
    "relevantCols = []\n",
    "for col in kbesht.get_support(indices=True):\n",
    "    relevantCols.append(df.columns[col])\n",
    "rfc = RandomForestClassifier(n_estimators=10,max_depth=7, random_state=0)\n",
    "rfc.fit(X_train[relevantCols], y_train)\n",
    "print(\"RandomForest score on dev\",rfc.score(X_dev[relevantCols], y_dev))\n",
    "print(\"RandomForest score on test\",rfc.score(X_test[relevantCols], y_test))\n",
    "scores.append(rfc.score(X_dev[relevantCols], y_dev))\n",
    "models.append(\"RandomForest Dev\")\n",
    "scores.append(rfc.score(X_test[relevantCols], y_test))\n",
    "models.append(\"RandomForest Test\")"
   ]
  },
  {
   "cell_type": "code",
   "execution_count": 1039,
   "metadata": {},
   "outputs": [
    {
     "data": {
      "text/plain": [
       "[0.27160493827160492,\n",
       " 0.37654320987654322,\n",
       " 0.3888888888888889,\n",
       " 0.39506172839506171,\n",
       " 0.37962962962962959,\n",
       " 0.41358024691358025,\n",
       " 0.48765432098765432,\n",
       " 0.39603960396039606]"
      ]
     },
     "execution_count": 1039,
     "metadata": {},
     "output_type": "execute_result"
    }
   ],
   "source": [
    "#models#[0]='KNN'#.remove(models[-1])\n",
    "scores#.remove(scores[-1])"
   ]
  },
  {
   "cell_type": "code",
   "execution_count": 1038,
   "metadata": {},
   "outputs": [
    {
     "data": {
      "image/png": "[encoded data removed]",
      "text/plain": [
       "<matplotlib.figure.Figure at 0x23f7d15e6d8>"
      ]
     },
     "metadata": {},
     "output_type": "display_data"
    }
   ],
   "source": [
    "\n",
    "y = np.arange(len(scores))\n",
    "plt.barh(y, width= [(i-0.25) for i in scores])#,width=0.7)\n",
    "plt.yticks(x-0.1, models)\n",
    "plt.ylabel(\"Accuracy\")\n",
    "plt.xlabel(\"Models\")\n",
    "plt.show()"
   ]
  },
  {
   "cell_type": "code",
   "execution_count": 600,
   "metadata": {},
   "outputs": [
    {
     "name": "stdout",
     "output_type": "stream",
     "text": [
      "Dev:  0.382716049383\n",
      "Test:  0.366336633663\n"
     ]
    }
   ],
   "source": [
    "svcTuned = LinearSVC(dual=False)\n",
    "accSum = []\n",
    "for i in range(10):\n",
    "    svcTuned.fit(X_train,y_train)\n",
    "    accSum.append(svcTuned.score(X_dev,y_dev))    \n",
    "print(\"Dev: \",np.mean(accSum))\n",
    "print(\"Test: \",svcTuned.score(X_test, y_test))"
   ]
  },
  {
   "cell_type": "code",
   "execution_count": 603,
   "metadata": {},
   "outputs": [
    {
     "name": "stdout",
     "output_type": "stream",
     "text": [
      "Dev:  0.444444444444\n",
      "Test:  0.356435643564\n"
     ]
    }
   ],
   "source": [
    "dtreeTuned = DecisionTreeClassifier(max_depth=2)\n",
    "accSum = []\n",
    "for i in range(10):\n",
    "    dtreeTuned.fit(X_train,y_train)\n",
    "    accSum.append(dtreeTuned.score(X_dev,y_dev))\n",
    "print(\"Dev: \",np.mean(accSum))\n",
    "print(\"Test: \",dtreeTuned.score(X_test,y_test))"
   ]
  }
 ],
 "metadata": {
  "kernelspec": {
   "display_name": "Python 3",
   "language": "python",
   "name": "python3"
  },
  "language_info": {
   "codemirror_mode": {
    "name": "ipython",
    "version": 3
   },
   "file_extension": ".py",
   "mimetype": "text/x-python",
   "name": "python",
   "nbconvert_exporter": "python",
   "pygments_lexer": "ipython3",
   "version": "3.6.3"
  }
 },
 "nbformat": 4,
 "nbformat_minor": 2
}
